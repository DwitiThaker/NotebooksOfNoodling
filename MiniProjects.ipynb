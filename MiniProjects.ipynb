{
  "nbformat": 4,
  "nbformat_minor": 0,
  "metadata": {
    "colab": {
      "provenance": [],
      "authorship_tag": "ABX9TyOPi1lkwRr9UCqYn81dZUVX",
      "include_colab_link": true
    },
    "kernelspec": {
      "name": "python3",
      "display_name": "Python 3"
    },
    "language_info": {
      "name": "python"
    }
  },
  "cells": [
    {
      "cell_type": "markdown",
      "metadata": {
        "id": "view-in-github",
        "colab_type": "text"
      },
      "source": [
        "<a href=\"https://colab.research.google.com/github/DwitiThaker/NotebooksOfNoodling/blob/main/MiniProjects.ipynb\" target=\"_parent\"><img src=\"https://colab.research.google.com/assets/colab-badge.svg\" alt=\"Open In Colab\"/></a>"
      ]
    },
    {
      "cell_type": "markdown",
      "source": [
        "# Zip-Unzip"
      ],
      "metadata": {
        "id": "b6OK5ezVr86o"
      }
    },
    {
      "cell_type": "code",
      "execution_count": null,
      "metadata": {
        "id": "-2n5HWuur5Ff"
      },
      "outputs": [],
      "source": [
        "import zipfile"
      ]
    },
    {
      "cell_type": "code",
      "source": [
        "zip_obj = zipfile.ZipFile('/content/unzip_me_for_instructions.zip')\n",
        "zip_obj.extractall(\"extracted_content\")"
      ],
      "metadata": {
        "id": "SBCUYIBFsR_U"
      },
      "execution_count": null,
      "outputs": []
    },
    {
      "cell_type": "code",
      "source": [
        "f = open('/content/extracted_content/extracted_content/Instructions.txt')\n",
        "content = f.read()\n",
        "print(content)"
      ],
      "metadata": {
        "colab": {
          "base_uri": "https://localhost:8080/"
        },
        "id": "ZwIKcML2sp_J",
        "outputId": "7d758ec6-f058-4922-9be3-a9bd59a7cf1c"
      },
      "execution_count": null,
      "outputs": [
        {
          "output_type": "stream",
          "name": "stdout",
          "text": [
            "Good work on unzipping the file!\n",
            "You should now see 5 folders, each with a lot of random .txt files.\n",
            "Within one of these text files is a telephone number formated ###-###-#### \n",
            "Use the Python os module and regular expressions to iterate through each file, open it, and search for a telephone number.\n",
            "Good luck!\n"
          ]
        }
      ]
    },
    {
      "cell_type": "code",
      "source": [
        "import re\n",
        "\n",
        "pattern = r'\\d{3}-\\d{3}-\\d{4}'\n",
        "re.findall(pattern,content)"
      ],
      "metadata": {
        "colab": {
          "base_uri": "https://localhost:8080/"
        },
        "id": "9cGfkk7Es2aj",
        "outputId": "8fecf8d3-91f4-4388-c1ba-2f7bf6d50288"
      },
      "execution_count": null,
      "outputs": [
        {
          "output_type": "execute_result",
          "data": {
            "text/plain": [
              "[]"
            ]
          },
          "metadata": {},
          "execution_count": 19
        }
      ]
    },
    {
      "cell_type": "code",
      "source": [
        "test_string = \"here is a random number 1231231234 , here is phone number formatted 123-123-1234\"\n",
        "re.findall(pattern, test_string)"
      ],
      "metadata": {
        "colab": {
          "base_uri": "https://localhost:8080/"
        },
        "id": "VqNx7dUtweVH",
        "outputId": "fdd76367-9d05-4410-cb8f-f03d7ea3cd2e"
      },
      "execution_count": null,
      "outputs": [
        {
          "output_type": "execute_result",
          "data": {
            "text/plain": [
              "['123-123-1234']"
            ]
          },
          "metadata": {},
          "execution_count": 20
        }
      ]
    },
    {
      "cell_type": "code",
      "source": [
        "def search(file, pattern=r'\\d{3}-\\d{3}-\\d{4}'):\n",
        "  f = open(file)\n",
        "  text = f.read()\n",
        "\n",
        "  if re.search(pattern, text):\n",
        "    return re.search(pattern, text)\n",
        "  else:\n",
        "    return ''"
      ],
      "metadata": {
        "id": "f_eOhXpLww_W"
      },
      "execution_count": null,
      "outputs": []
    },
    {
      "cell_type": "code",
      "source": [
        "import os\n",
        "\n",
        "results = []\n",
        "for folders, sub_folders, files in os.walk(os.getcwd()+\"/extracted_content\"):\n",
        "  for f in files:\n",
        "    full_path = os.path.join(folders, f)\n",
        "    result = search(full_path)\n",
        "    if result: # Only append if a match was found (result is not an empty string)\n",
        "      results.append(result)"
      ],
      "metadata": {
        "id": "RfT58gcSxoXg"
      },
      "execution_count": null,
      "outputs": []
    },
    {
      "cell_type": "code",
      "source": [
        "for r in results:\n",
        "  if r != '':\n",
        "    print(r.group())"
      ],
      "metadata": {
        "colab": {
          "base_uri": "https://localhost:8080/"
        },
        "id": "DmOoP-pYygPJ",
        "outputId": "53f97840-6a2a-42b2-eef7-c6e835313d85"
      },
      "execution_count": null,
      "outputs": [
        {
          "output_type": "stream",
          "name": "stdout",
          "text": [
            "719-266-2837\n"
          ]
        }
      ]
    },
    {
      "cell_type": "markdown",
      "source": [
        "# Quizzer"
      ],
      "metadata": {
        "id": "R7vG4_qNBJti"
      }
    },
    {
      "cell_type": "code",
      "source": [
        "all_questions = [\n",
        "    {\n",
        "        \"question\": \"What is the capital of Japan?\",\n",
        "        \"options\": [\"Beijing\", \"Seoul\", \"Tokyo\", \"Bangkok\"],\n",
        "        \"correct_answer\": \"Tokyo\",\n",
        "        \"point\": 1\n",
        "    },\n",
        "    {\n",
        "        \"question\": \"Which planet is known as the 'Red Planet'?\",\n",
        "        \"options\": [\"Earth\", \"Mars\", \"Jupiter\", \"Venus\"],\n",
        "        \"correct_answer\": \"Mars\",\n",
        "        \"point\": 1\n",
        "    },\n",
        "    {\n",
        "        \"question\": \"What is the largest ocean on Earth?\",\n",
        "        \"options\": [\"Atlantic Ocean\", \"Indian Ocean\", \"Arctic Ocean\", \"Pacific Ocean\"],\n",
        "        \"correct_answer\": \"Pacific Ocean\",\n",
        "        \"point\": 1\n",
        "    },\n",
        "    {\n",
        "        \"question\": \"Who painted the Mona Lisa?\",\n",
        "        \"options\": [\"Vincent van Gogh\", \"Leonardo da Vinci\", \"Pablo Picasso\", \"Claude Monet\"],\n",
        "        \"correct_answer\": \"Leonardo da Vinci\",\n",
        "        \"point\": 1\n",
        "    },\n",
        "    {\n",
        "        \"question\": \"What is the capital of Australia?\",\n",
        "        \"options\": [\"Sydney\", \"Melbourne\", \"Canberra\", \"Perth\"],\n",
        "        \"correct_answer\": \"Canberra\",\n",
        "        \"point\": 1\n",
        "    },\n",
        "    {\n",
        "        \"question\": \"Which animal is the largest on Earth?\",\n",
        "        \"options\": [\"Elephant\", \"Blue Whale\", \"Giraffe\", \"Great White Shark\"],\n",
        "        \"correct_answer\": \"Blue Whale\",\n",
        "        \"point\": 1\n",
        "    },\n",
        "    {\n",
        "        \"question\": \"What is the chemical symbol for gold?\",\n",
        "        \"options\": [\"Au\", \"Ag\", \"Fe\", \"Cu\"],\n",
        "        \"correct_answer\": \"Au\",\n",
        "        \"point\": 1\n",
        "    },\n",
        "    {\n",
        "        \"question\": \"How many continents are there?\",\n",
        "        \"options\": [\"5\", \"6\", \"7\", \"8\"],\n",
        "        \"correct_answer\": \"7\",\n",
        "        \"point\": 1\n",
        "    },\n",
        "    {\n",
        "        \"question\": \"What is the largest organ in the human body?\",\n",
        "        \"options\": [\"Heart\", \"Brain\", \"Liver\", \"Skin\"],\n",
        "        \"correct_answer\": \"Skin\",\n",
        "        \"point\": 1\n",
        "    },\n",
        "    {\n",
        "        \"question\": \"What is the main gas that makes up the Earth's atmosphere?\",\n",
        "        \"options\": [\"Oxygen\", \"Carbon Dioxide\", \"Nitrogen\", \"Hydrogen\"],\n",
        "        \"correct_answer\": \"Nitrogen\",\n",
        "        \"point\": 1\n",
        "    },\n",
        "    {\n",
        "        \"question\": \"Which country is famous for the Great Wall?\",\n",
        "        \"options\": [\"India\", \"Japan\", \"China\", \"Egypt\"],\n",
        "        \"correct_answer\": \"China\",\n",
        "        \"point\": 1\n",
        "    },\n",
        "    {\n",
        "        \"question\": \"What is the capital of Italy?\",\n",
        "        \"options\": [\"Venice\", \"Milan\", \"Rome\", \"Florence\"],\n",
        "        \"correct_answer\": \"Rome\",\n",
        "        \"point\": 1\n",
        "    },\n",
        "    {\n",
        "        \"question\": \"What is the freezing point of water in Celsius?\",\n",
        "        \"options\": [\"0°C\", \"10°C\", \"-10°C\", \"100°C\"],\n",
        "        \"correct_answer\": \"0°C\",\n",
        "        \"point\": 1\n",
        "    },\n",
        "    {\n",
        "        \"question\": \"What is the currency of the United Kingdom?\",\n",
        "        \"options\": [\"Euro\", \"Dollar\", \"Yen\", \"Pound Sterling\"],\n",
        "        \"correct_answer\": \"Pound Sterling\",\n",
        "        \"point\": 1\n",
        "    },\n",
        "    {\n",
        "        \"question\": \"Who wrote the play 'Romeo and Juliet'?\",\n",
        "        \"options\": [\"Charles Dickens\", \"William Shakespeare\", \"Jane Austen\", \"Mark Twain\"],\n",
        "        \"correct_answer\": \"William Shakespeare\",\n",
        "        \"point\": 1\n",
        "    },\n",
        "    {\n",
        "        \"question\": \"Which sense is associated with the tongue?\",\n",
        "        \"options\": [\"Smell\", \"Hearing\", \"Taste\", \"Sight\"],\n",
        "        \"correct_answer\": \"Taste\",\n",
        "        \"point\": 1\n",
        "    },\n",
        "    {\n",
        "        \"question\": \"What is the name of the galaxy our solar system is in?\",\n",
        "        \"options\": [\"Andromeda\", \"Triangulum\", \"Milky Way\", \"Whirlpool\"],\n",
        "        \"correct_answer\": \"Milky Way\",\n",
        "        \"point\": 1\n",
        "    },\n",
        "    {\n",
        "        \"question\": \"How many days are in a leap year?\",\n",
        "        \"options\": [\"365\", \"366\", \"364\", \"367\"],\n",
        "        \"correct_answer\": \"366\",\n",
        "        \"point\": 1\n",
        "    },\n",
        "    {\n",
        "        \"question\": \"What is the square root of 64?\",\n",
        "        \"options\": [\"6\", \"7\", \"8\", \"9\"],\n",
        "        \"correct_answer\": \"8\",\n",
        "        \"point\": 1\n",
        "    },\n",
        "    {\n",
        "        \"question\": \"What is the largest country in the world by land area?\",\n",
        "        \"options\": [\"China\", \"Canada\", \"Russia\", \"United States\"],\n",
        "        \"correct_answer\": \"Russia\",\n",
        "        \"point\": 1\n",
        "    },\n",
        "    {\n",
        "        \"question\": \"Which gas do plants absorb from the atmosphere?\",\n",
        "        \"options\": [\"Oxygen\", \"Nitrogen\", \"Carbon Dioxide\", \"Hydrogen\"],\n",
        "        \"correct_answer\": \"Carbon Dioxide\",\n",
        "        \"point\": 1\n",
        "    },\n",
        "    {\n",
        "        \"question\": \"What is the highest mountain in the world?\",\n",
        "        \"options\": [\"K2\", \"Mount Everest\", \"Mount Kilimanjaro\", \"Mount Denali\"],\n",
        "        \"correct_answer\": \"Mount Everest\",\n",
        "        \"point\": 1\n",
        "    },\n",
        "    {\n",
        "        \"question\": \"What is the powerhouse of the cell?\",\n",
        "        \"options\": [\"Nucleus\", \"Cytoplasm\", \"Mitochondria\", \"Ribosome\"],\n",
        "        \"correct_answer\": \"Mitochondria\",\n",
        "        \"point\": 1\n",
        "    },\n",
        "    {\n",
        "        \"question\": \"What is the chemical formula for water?\",\n",
        "        \"options\": [\"CO2\", \"O2\", \"H2O\", \"NaCl\"],\n",
        "        \"correct_answer\": \"H2O\",\n",
        "        \"point\": 1\n",
        "    },\n",
        "    {\n",
        "        \"question\": \"What is the capital of Spain?\",\n",
        "        \"options\": [\"Barcelona\", \"Lisbon\", \"Madrid\", \"Seville\"],\n",
        "        \"correct_answer\": \"Madrid\",\n",
        "        \"point\": 1\n",
        "    }\n",
        "]"
      ],
      "metadata": {
        "id": "lCXBW6OXynEt"
      },
      "execution_count": null,
      "outputs": []
    },
    {
      "cell_type": "code",
      "source": [
        "\"\"\"import json\n",
        "def load_questions(filename):\n",
        "  try:\n",
        "    with open(filename, 'r') as file:\n",
        "      return json.load(file)\n",
        "  except FileNotFoundError:\n",
        "    return []\n",
        "  except json.JSONDecodeError:\n",
        "        print(f\"Error: The file '{filename}' is not valid JSON.\")\n",
        "        return [] \"\"\""
      ],
      "metadata": {
        "colab": {
          "base_uri": "https://localhost:8080/",
          "height": 88
        },
        "id": "rhBRQJf0OIzc",
        "outputId": "715cbc38-3939-4154-831d-29ad8831ec4c"
      },
      "execution_count": null,
      "outputs": [
        {
          "output_type": "execute_result",
          "data": {
            "text/plain": [
              "'import json\\ndef load_questions(filename):\\n  try:\\n    with open(filename, \\'r\\') as file:\\n      return json.load(file)\\n  except FileNotFoundError:\\n    return []\\n  except json.JSONDecodeError:\\n        print(f\"Error: The file \\'{filename}\\' is not valid JSON.\")\\n        return [] '"
            ],
            "application/vnd.google.colaboratory.intrinsic+json": {
              "type": "string"
            }
          },
          "metadata": {},
          "execution_count": 27
        }
      ]
    },
    {
      "cell_type": "code",
      "source": [
        "import random\n",
        "\n",
        "quiz_questions = random.sample(all_questions, 3)"
      ],
      "metadata": {
        "id": "gOKTnE4MOLrL"
      },
      "execution_count": null,
      "outputs": []
    },
    {
      "cell_type": "code",
      "source": [
        "import random\n",
        "\n",
        "def run_quiz():\n",
        "  score = 0\n",
        "  for question in quiz_questions:\n",
        "    print(question['question'])\n",
        "\n",
        "    for i, option in enumerate(question['options'], 1):\n",
        "      print(f\" {i}. {option}\")\n",
        "\n",
        "    user_choice_str = input(\"Enter the number of your choice: \")\n",
        "\n",
        "    try:\n",
        "      user_choice_int = int(user_choice_str)\n",
        "      choosen = question['options'][user_choice_int - 1]\n",
        "\n",
        "      if choosen == question['correct_answer']:\n",
        "        print(\"Correct!\")\n",
        "        score += question['point']\n",
        "      else:\n",
        "                print(f\"Incorrect. The correct answer was {question['correct_answer']}.\")\n",
        "    except (ValueError, IndexError):\n",
        "      print(\"Invalid input. Please enter a valid number.\")\n",
        "  print(\"Final score = \", score)"
      ],
      "metadata": {
        "id": "5WKs8BCBOOvm"
      },
      "execution_count": null,
      "outputs": []
    },
    {
      "cell_type": "code",
      "source": [
        "run_quiz()"
      ],
      "metadata": {
        "id": "9a0KYhIwOPjP",
        "outputId": "2e57bdd7-dd6e-488a-c6b8-47d680032f02",
        "colab": {
          "base_uri": "https://localhost:8080/",
          "height": 391
        }
      },
      "execution_count": null,
      "outputs": [
        {
          "output_type": "stream",
          "name": "stdout",
          "text": [
            "What is the currency of the United Kingdom?\n",
            " 1. Euro\n",
            " 2. Dollar\n",
            " 3. Yen\n",
            " 4. Pound Sterling\n"
          ]
        },
        {
          "output_type": "error",
          "ename": "KeyboardInterrupt",
          "evalue": "Interrupted by user",
          "traceback": [
            "\u001b[0;31m---------------------------------------------------------------------------\u001b[0m",
            "\u001b[0;31mKeyboardInterrupt\u001b[0m                         Traceback (most recent call last)",
            "\u001b[0;32m/tmp/ipython-input-1664981707.py\u001b[0m in \u001b[0;36m<cell line: 0>\u001b[0;34m()\u001b[0m\n\u001b[0;32m----> 1\u001b[0;31m \u001b[0mrun_quiz\u001b[0m\u001b[0;34m(\u001b[0m\u001b[0;34m)\u001b[0m\u001b[0;34m\u001b[0m\u001b[0;34m\u001b[0m\u001b[0m\n\u001b[0m",
            "\u001b[0;32m/tmp/ipython-input-3847036992.py\u001b[0m in \u001b[0;36mrun_quiz\u001b[0;34m()\u001b[0m\n\u001b[1;32m      9\u001b[0m       \u001b[0mprint\u001b[0m\u001b[0;34m(\u001b[0m\u001b[0;34mf\" {i}. {option}\"\u001b[0m\u001b[0;34m)\u001b[0m\u001b[0;34m\u001b[0m\u001b[0;34m\u001b[0m\u001b[0m\n\u001b[1;32m     10\u001b[0m \u001b[0;34m\u001b[0m\u001b[0m\n\u001b[0;32m---> 11\u001b[0;31m     \u001b[0muser_choice_str\u001b[0m \u001b[0;34m=\u001b[0m \u001b[0minput\u001b[0m\u001b[0;34m(\u001b[0m\u001b[0;34m\"Enter the number of your choice: \"\u001b[0m\u001b[0;34m)\u001b[0m\u001b[0;34m\u001b[0m\u001b[0;34m\u001b[0m\u001b[0m\n\u001b[0m\u001b[1;32m     12\u001b[0m \u001b[0;34m\u001b[0m\u001b[0m\n\u001b[1;32m     13\u001b[0m     \u001b[0;32mtry\u001b[0m\u001b[0;34m:\u001b[0m\u001b[0;34m\u001b[0m\u001b[0;34m\u001b[0m\u001b[0m\n",
            "\u001b[0;32m/usr/local/lib/python3.11/dist-packages/ipykernel/kernelbase.py\u001b[0m in \u001b[0;36mraw_input\u001b[0;34m(self, prompt)\u001b[0m\n\u001b[1;32m   1175\u001b[0m                 \u001b[0;34m\"raw_input was called, but this frontend does not support input requests.\"\u001b[0m\u001b[0;34m\u001b[0m\u001b[0;34m\u001b[0m\u001b[0m\n\u001b[1;32m   1176\u001b[0m             )\n\u001b[0;32m-> 1177\u001b[0;31m         return self._input_request(\n\u001b[0m\u001b[1;32m   1178\u001b[0m             \u001b[0mstr\u001b[0m\u001b[0;34m(\u001b[0m\u001b[0mprompt\u001b[0m\u001b[0;34m)\u001b[0m\u001b[0;34m,\u001b[0m\u001b[0;34m\u001b[0m\u001b[0;34m\u001b[0m\u001b[0m\n\u001b[1;32m   1179\u001b[0m             \u001b[0mself\u001b[0m\u001b[0;34m.\u001b[0m\u001b[0m_parent_ident\u001b[0m\u001b[0;34m[\u001b[0m\u001b[0;34m\"shell\"\u001b[0m\u001b[0;34m]\u001b[0m\u001b[0;34m,\u001b[0m\u001b[0;34m\u001b[0m\u001b[0;34m\u001b[0m\u001b[0m\n",
            "\u001b[0;32m/usr/local/lib/python3.11/dist-packages/ipykernel/kernelbase.py\u001b[0m in \u001b[0;36m_input_request\u001b[0;34m(self, prompt, ident, parent, password)\u001b[0m\n\u001b[1;32m   1217\u001b[0m             \u001b[0;32mexcept\u001b[0m \u001b[0mKeyboardInterrupt\u001b[0m\u001b[0;34m:\u001b[0m\u001b[0;34m\u001b[0m\u001b[0;34m\u001b[0m\u001b[0m\n\u001b[1;32m   1218\u001b[0m                 \u001b[0;31m# re-raise KeyboardInterrupt, to truncate traceback\u001b[0m\u001b[0;34m\u001b[0m\u001b[0;34m\u001b[0m\u001b[0m\n\u001b[0;32m-> 1219\u001b[0;31m                 \u001b[0;32mraise\u001b[0m \u001b[0mKeyboardInterrupt\u001b[0m\u001b[0;34m(\u001b[0m\u001b[0;34m\"Interrupted by user\"\u001b[0m\u001b[0;34m)\u001b[0m \u001b[0;32mfrom\u001b[0m \u001b[0;32mNone\u001b[0m\u001b[0;34m\u001b[0m\u001b[0;34m\u001b[0m\u001b[0m\n\u001b[0m\u001b[1;32m   1220\u001b[0m             \u001b[0;32mexcept\u001b[0m \u001b[0mException\u001b[0m\u001b[0;34m:\u001b[0m\u001b[0;34m\u001b[0m\u001b[0;34m\u001b[0m\u001b[0m\n\u001b[1;32m   1221\u001b[0m                 \u001b[0mself\u001b[0m\u001b[0;34m.\u001b[0m\u001b[0mlog\u001b[0m\u001b[0;34m.\u001b[0m\u001b[0mwarning\u001b[0m\u001b[0;34m(\u001b[0m\u001b[0;34m\"Invalid Message:\"\u001b[0m\u001b[0;34m,\u001b[0m \u001b[0mexc_info\u001b[0m\u001b[0;34m=\u001b[0m\u001b[0;32mTrue\u001b[0m\u001b[0;34m)\u001b[0m\u001b[0;34m\u001b[0m\u001b[0;34m\u001b[0m\u001b[0m\n",
            "\u001b[0;31mKeyboardInterrupt\u001b[0m: Interrupted by user"
          ]
        }
      ]
    },
    {
      "cell_type": "markdown",
      "source": [
        "# Write a function that computes the volume of a sphere given its radius.\n",
        "\n"
      ],
      "metadata": {
        "id": "1tiN45Gq6KX5"
      }
    },
    {
      "cell_type": "code",
      "source": [
        "def vol(r):\n",
        "  return 4/3*3.14*r*r*r"
      ],
      "metadata": {
        "id": "_SApfb1N6Mxs"
      },
      "execution_count": 2,
      "outputs": []
    },
    {
      "cell_type": "code",
      "source": [
        "vol(2)"
      ],
      "metadata": {
        "colab": {
          "base_uri": "https://localhost:8080/"
        },
        "id": "59_VFCP56bes",
        "outputId": "5273736e-671a-4324-bdab-8e7af23a584b"
      },
      "execution_count": 3,
      "outputs": [
        {
          "output_type": "execute_result",
          "data": {
            "text/plain": [
              "33.49333333333333"
            ]
          },
          "metadata": {},
          "execution_count": 3
        }
      ]
    },
    {
      "cell_type": "code",
      "source": [
        "def ran_check(num,low,high):\n",
        "  if low<=num<=high:\n",
        "    print(\"{} is in the range between {} and {}\".format(num,low,high))\n",
        "  else:\n",
        "    print(\"Not in the range\")\n",
        "\n",
        "ran_check(5,2,7)\n",
        "ran_check(2,7,9)"
      ],
      "metadata": {
        "colab": {
          "base_uri": "https://localhost:8080/"
        },
        "id": "6Gu7JsxK6mSc",
        "outputId": "a2805cc8-735c-4c90-a017-a4ec1eb997eb"
      },
      "execution_count": 7,
      "outputs": [
        {
          "output_type": "stream",
          "name": "stdout",
          "text": [
            "5 is in the range between 2 and 7\n",
            "Not in the range\n"
          ]
        }
      ]
    },
    {
      "cell_type": "code",
      "source": [
        "from collections import Counter\n",
        "\n",
        "def uplow_with_counter(string):\n",
        "    letters_only = [char for char in string if char.isalpha()]\n",
        "    case_counts = Counter(c.isupper() for c in letters_only)\n",
        "    up = case_counts.get(True, 0)\n",
        "    low = case_counts.get(False, 0)\n",
        "    print(\"up: {}.\".format(up))\n",
        "    print(\"low: {}.\".format(low))\n",
        "string = 'Hello Mr. Rogers, how are you this fine Tuesday?'\n",
        "uplow_with_counter(string)"
      ],
      "metadata": {
        "colab": {
          "base_uri": "https://localhost:8080/"
        },
        "id": "6VSxHFSM8iKt",
        "outputId": "2d844d68-0a6b-4933-a7f0-22f0a8288981"
      },
      "execution_count": 15,
      "outputs": [
        {
          "output_type": "stream",
          "name": "stdout",
          "text": [
            "up: 4.\n",
            "low: 33.\n"
          ]
        }
      ]
    },
    {
      "cell_type": "markdown",
      "source": [
        "# Write a Python function to multiply all the numbers in a list.\n",
        "\n"
      ],
      "metadata": {
        "id": "XrMRRWBqCCbx"
      }
    },
    {
      "cell_type": "code",
      "source": [
        "def multiply(numbers):\n",
        "    total = 1\n",
        "    for x in numbers:\n",
        "        total *= x\n",
        "    return total\n",
        "\n",
        "multiply([1,2,3,-4])"
      ],
      "metadata": {
        "colab": {
          "base_uri": "https://localhost:8080/"
        },
        "id": "W7hkeogRBe6j",
        "outputId": "8bade33b-4f46-41b4-991c-585af585e244"
      },
      "execution_count": 17,
      "outputs": [
        {
          "output_type": "execute_result",
          "data": {
            "text/plain": [
              "-24"
            ]
          },
          "metadata": {},
          "execution_count": 17
        }
      ]
    },
    {
      "cell_type": "markdown",
      "source": [
        "# Write a Python function to check whether a string is pangram or not. (Assume the string passed in does not have any punctuation)"
      ],
      "metadata": {
        "id": "nK0aahFsDh_S"
      }
    },
    {
      "cell_type": "code",
      "source": [
        "s = \"The quick brown fox jumps over the lazy dog\"\n",
        "\n",
        "alphaset = ('a', 'b', 'c', 'd', 'e', 'f', 'g', 'h', 'i', 'j', 'k', 'l', 'm', 'n', 'o', 'p', 'q', 'r', 's', 't', 'u', 'v', 'w', 'x', 'y', 'z')\n",
        "\n",
        "def ispangram(s):\n",
        "  s.replace(\" \", \"\")\n",
        "  low = s.lower()\n",
        "  found_letters = set()\n",
        "\n",
        "  for char in low:\n",
        "    if 'a' <= char <= 'z':\n",
        "      found_letters.add(char)\n",
        "  return len(found_letters) == 26\n",
        "\n",
        "ispangram(s)\n"
      ],
      "metadata": {
        "colab": {
          "base_uri": "https://localhost:8080/"
        },
        "id": "ITJxNkGSDgcz",
        "outputId": "c39513a4-4b15-46c9-8bef-fa21d587a29a"
      },
      "execution_count": 20,
      "outputs": [
        {
          "output_type": "execute_result",
          "data": {
            "text/plain": [
              "True"
            ]
          },
          "metadata": {},
          "execution_count": 20
        }
      ]
    },
    {
      "cell_type": "code",
      "source": [
        "sentence2 = \"Hello world\"\n",
        "ispangram(sentence2)"
      ],
      "metadata": {
        "id": "1MMb9jgUEFOh"
      },
      "execution_count": null,
      "outputs": []
    },
    {
      "cell_type": "markdown",
      "source": [
        "# Tic-Tac-Toe"
      ],
      "metadata": {
        "id": "nrakYpT_LRWT"
      }
    },
    {
      "cell_type": "code",
      "source": [
        "board = ['1', '2', '3', '4', '5', '6', '7', '8', '9']\n",
        "\n",
        "def display_board(board):\n",
        "    print(f\" {board[0]} | {board[1]} | {board[2]}\")\n",
        "    print(\"-----------\")\n",
        "    print(f\" {board[3]} | {board[4]} | {board[5]}\")\n",
        "    print(\"-----------\")\n",
        "    print(f\" {board[6]} | {board[7]} | {board[8]}\")\n",
        "\n",
        "def get_player_choice(board, player):\n",
        "    while True:\n",
        "        try:\n",
        "            choice = input(f\"Player {player}, enter your move (1-9): \")\n",
        "            index = int(choice) - 1\n",
        "\n",
        "            if index < 0 or index > 8:\n",
        "                print(\"Invalid input. Please enter a number between 1 and 9.\")\n",
        "                continue\n",
        "\n",
        "            if board[index] != 'X' and board[index] != 'O':\n",
        "                return index\n",
        "            else:\n",
        "                print(\"That spot is already taken. Please choose another.\")\n",
        "        except ValueError:\n",
        "            print(\"Invalid input. Please enter a number.\")\n",
        "\n",
        "def place_mark(board, player, position):\n",
        "    \"\"\"Updates the board with the player's mark.\"\"\"\n",
        "    board[position] = player\n",
        "\n",
        "def check_win(board, player):\n",
        "    \"\"\"Checks if the given player has won the game.\"\"\"\n",
        "    return ((board[0] == player and board[1] == player and board[2] == player) or\n",
        "            (board[3] == player and board[4] == player and board[5] == player) or\n",
        "            (board[6] == player and board[7] == player and board[8] == player) or\n",
        "            (board[0] == player and board[3] == player and board[6] == player) or\n",
        "            (board[1] == player and board[4] == player and board[7] == player) or\n",
        "            (board[2] == player and board[5] == player and board[8] == player) or\n",
        "            (board[0] == player and board[4] == player and board[8] == player) or\n",
        "            (board[2] == player and board[4] == player and board[6] == player))\n",
        "\n",
        "def check_draw(board):\n",
        "    \"\"\"Checks if the game is a draw.\"\"\"\n",
        "    for spot in board:\n",
        "        if spot in ['1', '2', '3', '4', '5', '6', '7', '8', '9']:\n",
        "            return False\n",
        "    return True\n",
        "\n",
        "def main():\n",
        "    \"\"\"Manages the main game loop.\"\"\"\n",
        "    current_player = 'X'\n",
        "    game_board = ['1', '2', '3', '4', '5', '6', '7', '8', '9']\n",
        "\n",
        "    print(\"Welcome to Tic-Tac-Toe!\")\n",
        "\n",
        "    while True:\n",
        "        display_board(game_board)\n",
        "\n",
        "        position = get_player_choice(game_board, current_player)\n",
        "        place_mark(game_board, current_player, position)\n",
        "\n",
        "        if check_win(game_board, current_player):\n",
        "            display_board(game_board)\n",
        "            print(f\"Congratulations, Player {current_player}! You win!\")\n",
        "            break\n",
        "\n",
        "        if check_draw(game_board):\n",
        "            display_board(game_board)\n",
        "            print(\"The game is a draw!\")\n",
        "            break\n",
        "\n",
        "        # Switch players\n",
        "        if current_player == 'X':\n",
        "            current_player = 'O'\n",
        "        else:\n",
        "            current_player = 'X'\n",
        "\n",
        "# The standard way to run the main function in a Python script\n",
        "if __name__ == '__main__':\n",
        "    main()"
      ],
      "metadata": {
        "colab": {
          "base_uri": "https://localhost:8080/"
        },
        "id": "n5cFcB1ONfg3",
        "outputId": "4a371d56-26a9-4b77-e90e-11b62130711b"
      },
      "execution_count": 29,
      "outputs": [
        {
          "output_type": "stream",
          "name": "stdout",
          "text": [
            "Welcome to Tic-Tac-Toe!\n",
            " 1 | 2 | 3\n",
            "-----------\n",
            " 4 | 5 | 6\n",
            "-----------\n",
            " 7 | 8 | 9\n",
            "Player X, enter your move (1-9): 5\n",
            " 1 | 2 | 3\n",
            "-----------\n",
            " 4 | X | 6\n",
            "-----------\n",
            " 7 | 8 | 9\n",
            "Player O, enter your move (1-9): 9\n",
            " 1 | 2 | 3\n",
            "-----------\n",
            " 4 | X | 6\n",
            "-----------\n",
            " 7 | 8 | O\n",
            "Player X, enter your move (1-9): 1\n",
            " X | 2 | 3\n",
            "-----------\n",
            " 4 | X | 6\n",
            "-----------\n",
            " 7 | 8 | O\n",
            "Player O, enter your move (1-9): 6\n",
            " X | 2 | 3\n",
            "-----------\n",
            " 4 | X | O\n",
            "-----------\n",
            " 7 | 8 | O\n",
            "Player X, enter your move (1-9): 4\n",
            " X | 2 | 3\n",
            "-----------\n",
            " X | X | O\n",
            "-----------\n",
            " 7 | 8 | O\n",
            "Player O, enter your move (1-9): 3\n",
            " X | 2 | O\n",
            "-----------\n",
            " X | X | O\n",
            "-----------\n",
            " 7 | 8 | O\n",
            "Congratulations, Player O! You win!\n"
          ]
        }
      ]
    },
    {
      "cell_type": "markdown",
      "source": [
        "# Object Oriented Programming"
      ],
      "metadata": {
        "id": "W_F_Gyo1qXch"
      }
    },
    {
      "cell_type": "code",
      "source": [
        "class Line(object):\n",
        "\n",
        "  def __init__(self,co1,co2):\n",
        "    self.co1 = co1\n",
        "    self.co2 = co2\n",
        "\n",
        "  def distance(self):\n",
        "    x1,y1 = self.co1\n",
        "    x2,y2 = self.co2\n",
        "    dis = ((x2-x1)**2 + (y2-y1)**2) ** (0.5)\n",
        "    return dis\n",
        "\n",
        "  def slope(self):\n",
        "    x1,y1 = self.co1\n",
        "    x2,y2 = self.co2\n",
        "    return (y2-y1)/(x2-x1)"
      ],
      "metadata": {
        "id": "GUqzl4RUiJ6D"
      },
      "execution_count": 13,
      "outputs": []
    },
    {
      "cell_type": "code",
      "source": [
        "coordinate1 = (3,2)\n",
        "coordinate2 = (8,10)\n",
        "\n",
        "li = Line(coordinate1,coordinate2)"
      ],
      "metadata": {
        "id": "IRyof0a8sdCr"
      },
      "execution_count": 14,
      "outputs": []
    },
    {
      "cell_type": "code",
      "source": [
        "li.distance()"
      ],
      "metadata": {
        "colab": {
          "base_uri": "https://localhost:8080/"
        },
        "id": "m2mQAyzRsfbu",
        "outputId": "2a2446dd-5295-4efe-f86e-4b10293fe930"
      },
      "execution_count": 16,
      "outputs": [
        {
          "output_type": "execute_result",
          "data": {
            "text/plain": [
              "9.433981132056603"
            ]
          },
          "metadata": {},
          "execution_count": 16
        }
      ]
    },
    {
      "cell_type": "code",
      "source": [
        "li.slope()"
      ],
      "metadata": {
        "colab": {
          "base_uri": "https://localhost:8080/"
        },
        "id": "Ui8cjRoKsisi",
        "outputId": "9b96c0a9-296f-4666-c5d3-687f987693b3"
      },
      "execution_count": 15,
      "outputs": [
        {
          "output_type": "execute_result",
          "data": {
            "text/plain": [
              "1.6"
            ]
          },
          "metadata": {},
          "execution_count": 15
        }
      ]
    },
    {
      "cell_type": "code",
      "source": [
        "class Cylinder:\n",
        "\n",
        "  def __init__(self, height=1, radius=1):\n",
        "    self.height = height\n",
        "    self.radius = radius\n",
        "\n",
        "  def volume(self):\n",
        "    return self.height*3.14*(self.radius)**2\n",
        "\n",
        "  def surface_area(self):\n",
        "    top = 3.14 * (self.radius)**2\n",
        "    return (2*top) + (2*3.14*self.radius*self.height)"
      ],
      "metadata": {
        "id": "YnmgTfNSsnx7"
      },
      "execution_count": 19,
      "outputs": []
    },
    {
      "cell_type": "code",
      "source": [
        "c = Cylinder(2,3)\n",
        "c.volume()\n",
        "c.surface_area()"
      ],
      "metadata": {
        "colab": {
          "base_uri": "https://localhost:8080/"
        },
        "id": "JUURgiKpvef0",
        "outputId": "fa584720-4953-4a70-93be-0672999d55eb"
      },
      "execution_count": 20,
      "outputs": [
        {
          "output_type": "execute_result",
          "data": {
            "text/plain": [
              "94.2"
            ]
          },
          "metadata": {},
          "execution_count": 20
        }
      ]
    },
    {
      "cell_type": "markdown",
      "source": [
        "# For this challenge, create a bank account class that has two attributes:\n",
        "\n",
        "owner\n",
        "balance\n",
        "and two methods:\n",
        "\n",
        "deposit\n",
        "withdraw\n",
        "As an added requirement, withdrawals may not exceed the available balance."
      ],
      "metadata": {
        "id": "MS2YfSVhw4Ft"
      }
    },
    {
      "cell_type": "code",
      "source": [
        "class Account:\n",
        "\n",
        "  def __init__(self, owner, balance=0):\n",
        "    self.owner = owner\n",
        "    self.balance = balance\n",
        "\n",
        "  def __str__(self):\n",
        "    return f'Account owner: {self.owner}\\n Account balance: Rs{self.balance}'\n",
        "\n",
        "  def deposit(self, dep_amt):\n",
        "    self.balance += dep_amt\n",
        "    print('Deposit Accepted')\n",
        "\n",
        "  def withdrawal (self, wd_amt):\n",
        "    if self.balance > wd_amt:\n",
        "      self.balance -= wd_amt\n",
        "      print(\"Withdrawal Accepted\")\n",
        "    else:\n",
        "      print('Funds Unavailable!')"
      ],
      "metadata": {
        "id": "IXZZX5kZw9up"
      },
      "execution_count": 31,
      "outputs": []
    },
    {
      "cell_type": "code",
      "source": [
        "acct1 = Account('Dwiti', 1000)\n",
        "acct2 = Account('Aneri', 1000)"
      ],
      "metadata": {
        "id": "GMNRcKRnyI2B"
      },
      "execution_count": 34,
      "outputs": []
    },
    {
      "cell_type": "code",
      "source": [
        "acct1.deposit(50)\n"
      ],
      "metadata": {
        "colab": {
          "base_uri": "https://localhost:8080/"
        },
        "id": "OkclRVQ4ykDj",
        "outputId": "c2b03add-83dc-44af-8bdf-dcb714d3f9aa"
      },
      "execution_count": 38,
      "outputs": [
        {
          "output_type": "stream",
          "name": "stdout",
          "text": [
            "Deposit Accepted\n"
          ]
        }
      ]
    },
    {
      "cell_type": "code",
      "source": [
        "acct1.balance"
      ],
      "metadata": {
        "colab": {
          "base_uri": "https://localhost:8080/"
        },
        "id": "exx_UG1o0Ei6",
        "outputId": "5e94b4c9-75a9-476f-e497-4e08b6a736d5"
      },
      "execution_count": 42,
      "outputs": [
        {
          "output_type": "execute_result",
          "data": {
            "text/plain": [
              "975"
            ]
          },
          "metadata": {},
          "execution_count": 42
        }
      ]
    },
    {
      "cell_type": "code",
      "source": [
        "acct1.withdrawal(75)\n"
      ],
      "metadata": {
        "colab": {
          "base_uri": "https://localhost:8080/"
        },
        "id": "wJoFWPAc0Td3",
        "outputId": "b2713c50-fa85-45c3-b9e3-621e7ddee68f"
      },
      "execution_count": 41,
      "outputs": [
        {
          "output_type": "stream",
          "name": "stdout",
          "text": [
            "Withdrawal Accepted\n"
          ]
        }
      ]
    }
  ]
}