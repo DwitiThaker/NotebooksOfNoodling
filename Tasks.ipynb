{
  "nbformat": 4,
  "nbformat_minor": 0,
  "metadata": {
    "colab": {
      "provenance": [],
      "authorship_tag": "ABX9TyMeIB8D4m+hrRqtIMi2Wv46",
      "include_colab_link": true
    },
    "kernelspec": {
      "name": "python3",
      "display_name": "Python 3"
    },
    "language_info": {
      "name": "python"
    }
  },
  "cells": [
    {
      "cell_type": "markdown",
      "metadata": {
        "id": "view-in-github",
        "colab_type": "text"
      },
      "source": [
        "<a href=\"https://colab.research.google.com/github/DwitiThaker/NotebooksOfNoodling/blob/main/Tasks.ipynb\" target=\"_parent\"><img src=\"https://colab.research.google.com/assets/colab-badge.svg\" alt=\"Open In Colab\"/></a>"
      ]
    },
    {
      "cell_type": "markdown",
      "source": [
        "# TASK 0: Sorting\n",
        "Sort and Put the childrens matching with parent id\n"
      ],
      "metadata": {
        "id": "xnGtBB0J-Ha4"
      }
    },
    {
      "cell_type": "code",
      "source": [
        "data = [\n",
        "    {\n",
        "        \"id\": 1,\n",
        "        \"childrens\": [\n",
        "            {\"id\": \"3\", \"parent\": 4},\n",
        "            {\"id\": \"2\", \"parent\": 3},\n",
        "            {\"id\": \"4\", \"parent\": 4}\n",
        "        ]\n",
        "    },\n",
        "    {\n",
        "        \"id\": 2,\n",
        "        \"childrens\": [\n",
        "            {\"id\": \"2\", \"parent\": 5},\n",
        "            {\"id\": \"2\", \"parent\": 2},\n",
        "            {\"id\": \"2\", \"parent\": 1}\n",
        "        ]\n",
        "    },\n",
        "    {\n",
        "        \"id\": 3,\n",
        "        \"childrens\": [\n",
        "            {\"id\": \"3\", \"parent\": 4},\n",
        "            {\"id\": \"4\", \"parent\": 3},\n",
        "            {\"id\": \"5\", \"parent\": 2}\n",
        "        ]\n",
        "    },\n",
        "    {\n",
        "        \"id\": 4,\n",
        "        \"childrens\": [\n",
        "            {\"id\": \"9\", \"parent\": 2},\n",
        "            {\"id\": \"8\", \"parent\": 5},\n",
        "            {\"id\": \"4\", \"parent\": 1}\n",
        "        ]\n",
        "    },\n",
        "    {\n",
        "        \"id\": 5,\n",
        "        \"childrens\": [\n",
        "            {\"id\": \"19\", \"parent\": 3},\n",
        "            {\"id\": \"20\", \"parent\": 2},\n",
        "            {\"id\": \"21\", \"parent\": 4}\n",
        "        ]\n",
        "    }\n",
        "]\n",
        "\n",
        "sorted_data = {}\n",
        "\n",
        "for item in data:\n",
        "    parents_id = item[\"id\"]\n",
        "    sorted_data[parents_id] = []\n",
        "\n",
        "    for possible_parent in data:\n",
        "        for child in possible_parent[\"childrens\"]:\n",
        "            original_parent_id = child[\"parent\"]\n",
        "\n",
        "            if parents_id == original_parent_id:\n",
        "                sorted_data[parents_id].append(child)\n",
        "\n",
        "print(sorted_data)\n"
      ],
      "metadata": {
        "colab": {
          "base_uri": "https://localhost:8080/"
        },
        "id": "N_4LfBcKWsTm",
        "outputId": "e5eaf73b-3799-403f-dca1-81684bd26863"
      },
      "execution_count": null,
      "outputs": [
        {
          "output_type": "stream",
          "name": "stdout",
          "text": [
            "{1: [{'id': '2', 'parent': 1}, {'id': '4', 'parent': 1}], 2: [{'id': '2', 'parent': 2}, {'id': '5', 'parent': 2}, {'id': '9', 'parent': 2}, {'id': '20', 'parent': 2}], 3: [{'id': '2', 'parent': 3}, {'id': '4', 'parent': 3}, {'id': '19', 'parent': 3}], 4: [{'id': '3', 'parent': 4}, {'id': '4', 'parent': 4}, {'id': '3', 'parent': 4}, {'id': '21', 'parent': 4}], 5: [{'id': '2', 'parent': 5}, {'id': '8', 'parent': 5}]}\n"
          ]
        }
      ]
    },
    {
      "cell_type": "markdown",
      "source": [
        "\n",
        "\n",
        "---\n",
        "\n"
      ],
      "metadata": {
        "id": "_jlw2CDyXRs1"
      }
    },
    {
      "cell_type": "markdown",
      "source": [
        "# Task 1: Employee Department Reorganization.\n",
        "\n",
        "\n",
        "Goal: Create a function that:\n",
        "\n",
        "\n",
        "\n",
        "1.   Groups employees by department\n",
        "2.   Calculates average salary per department\n",
        "3.   Finds the most experienced employee in each department\n",
        "\n",
        "\n",
        "\n",
        "\n"
      ],
      "metadata": {
        "id": "EizEkHfyI0sc"
      }
    },
    {
      "cell_type": "code",
      "source": [
        "employees = [\n",
        "    {\"name\": \"Alice\", \"department\": \"HR\", \"salary\": 50000, \"years\": 3},\n",
        "    {\"name\": \"Bob\", \"department\": \"IT\", \"salary\": 70000, \"years\": 5},\n",
        "    {\"name\": \"Charlie\", \"department\": \"HR\", \"salary\": 45000, \"years\": 1},\n",
        "    {\"name\": \"Diana\", \"department\": \"IT\", \"salary\": 80000, \"years\": 7},\n",
        "    {\"name\": \"Eve\", \"department\": \"Finance\", \"salary\": 60000, \"years\": 4}\n",
        "]\n",
        "\n",
        "\n",
        "def analyze(employees):\n",
        "\n",
        "  departments = {}\n",
        "\n",
        "  for employee in employees:\n",
        "    dep = employee['department']\n",
        "    if dep not in departments:\n",
        "      departments[dep] = []\n",
        "    departments[dep].append(employee)\n",
        "\n",
        "  print(list(departments))\n",
        "\n",
        "  for department, employee_list in departments.items():\n",
        "    total_salary = sum(employee['salary'] for employee in employee_list)\n",
        "    average = total_salary / len(employee_list)\n",
        "    print(f\"Average salary for {department}: {average}\")\n",
        "\n",
        "  for department, employee_list in departments.items():\n",
        "    most_experienced_employee = max(employee_list, key=lambda emp: emp['years'])\n",
        "    print(f\"Most experienced employee in {department}: {most_experienced_employee['name']} ({most_experienced_employee['years']} years)\")\n",
        "\n",
        "analyze(employees)"
      ],
      "metadata": {
        "colab": {
          "base_uri": "https://localhost:8080/"
        },
        "id": "hPI73f3KI0Bb",
        "outputId": "6ddeab2b-40aa-45a8-9d3c-8c5a52c6e212"
      },
      "execution_count": null,
      "outputs": [
        {
          "output_type": "stream",
          "name": "stdout",
          "text": [
            "['HR', 'IT', 'Finance']\n",
            "Average salary for HR: 47500.0\n",
            "Average salary for IT: 75000.0\n",
            "Average salary for Finance: 60000.0\n",
            "Most experienced employee in HR: Alice (3 years)\n",
            "Most experienced employee in IT: Diana (7 years)\n",
            "Most experienced employee in Finance: Eve (4 years)\n"
          ]
        }
      ]
    },
    {
      "cell_type": "markdown",
      "source": [
        "\n",
        "\n",
        "---\n",
        "\n"
      ],
      "metadata": {
        "id": "X43B2KQRXxAI"
      }
    },
    {
      "cell_type": "markdown",
      "source": [
        "# Task 2: Student Grade Tracker\n",
        "\n",
        "Goal: Build a system that:\n",
        "\n",
        "\n",
        "\n",
        "1.   Calculates GPA for each student\n",
        "2.   Tracks grade improvement between semesters\n",
        "3.   Identifies top performer in each subject\n",
        "\n",
        "\n"
      ],
      "metadata": {
        "id": "cvZ2fZOJXhy5"
      }
    },
    {
      "cell_type": "code",
      "source": [
        "grades = [\n",
        "    {\"student\": \"John\", \"subject\": \"Math\", \"grade\": 85, \"semester\": 1},\n",
        "    {\"student\": \"John\", \"subject\": \"Science\", \"grade\": 92, \"semester\": 1},\n",
        "    {\"student\": \"Sarah\", \"subject\": \"Math\", \"grade\": 78, \"semester\": 1},\n",
        "    {\"student\": \"John\", \"subject\": \"Math\", \"grade\": 88, \"semester\": 2},\n",
        "    {\"student\": \"Sarah\", \"subject\": \"Science\", \"grade\": 85, \"semester\": 2}\n",
        "]\n",
        "\n",
        "def analyze_grades(grades):\n",
        "    student_grades = {}\n",
        "    subject_toppers = {}\n",
        "\n",
        "    # Group grades by student and by subject for processing\n",
        "    for record in grades:\n",
        "        student = record[\"student\"]\n",
        "        subject = record[\"subject\"]\n",
        "        grade = record[\"grade\"]\n",
        "        semester = record[\"semester\"]\n",
        "\n",
        "        # Group by student\n",
        "        if student not in student_grades:\n",
        "            student_grades[student] = {\"all_grades\": [], \"by_semester\": {}}\n",
        "\n",
        "        student_grades[student][\"all_grades\"].append(grade)\n",
        "\n",
        "        if semester not in student_grades[student][\"by_semester\"]:\n",
        "            student_grades[student][\"by_semester\"][semester] = []\n",
        "        student_grades[student][\"by_semester\"][semester].append(grade)\n",
        "\n",
        "        if subject not in subject_toppers or grade > subject_toppers[subject][\"grade\"]:\n",
        "            subject_toppers[subject] = {\"student\": student, \"grade\": grade}\n",
        "\n",
        "    # Calculate GPA and improvement\n",
        "    results = {\"students\": {}, \"subject_toppers\": subject_toppers}\n",
        "    for student, data in student_grades.items():\n",
        "        # GPA (average grade overall)\n",
        "        gpa = sum(data[\"all_grades\"]) / len(data[\"all_grades\"])\n",
        "\n",
        "        # Grade improvement (average semester 2 - average semester 1)\n",
        "        improvement = None\n",
        "        if 1 in data[\"by_semester\"] and 2 in data[\"by_semester\"]:\n",
        "            avg_sem1 = sum(data[\"by_semester\"][1]) / len(data[\"by_semester\"][1])\n",
        "            avg_sem2 = sum(data[\"by_semester\"][2]) / len(data[\"by_semester\"][2])\n",
        "            improvement = avg_sem2 - avg_sem1\n",
        "\n",
        "        results[\"students\"][student] = {\n",
        "            \"GPA\": gpa,\n",
        "            \"Improvement\": improvement\n",
        "        }\n",
        "\n",
        "    return results\n",
        "\n",
        "analyze_grades(grades)"
      ],
      "metadata": {
        "colab": {
          "base_uri": "https://localhost:8080/"
        },
        "id": "XR-X_cvpLh-E",
        "outputId": "33dd9dc6-e32f-450b-91b3-27945be1c6bd"
      },
      "execution_count": null,
      "outputs": [
        {
          "output_type": "execute_result",
          "data": {
            "text/plain": [
              "{'students': {'John': {'GPA': 88.33333333333333, 'Improvement': -0.5},\n",
              "  'Sarah': {'GPA': 81.5, 'Improvement': 7.0}},\n",
              " 'subject_toppers': {'Math': {'student': 'John', 'grade': 88},\n",
              "  'Science': {'student': 'John', 'grade': 92}}}"
            ]
          },
          "metadata": {},
          "execution_count": 37
        }
      ]
    },
    {
      "cell_type": "markdown",
      "source": [
        "\n",
        "\n",
        "---\n",
        "\n"
      ],
      "metadata": {
        "id": "W0HuyXG0iOyw"
      }
    },
    {
      "cell_type": "markdown",
      "source": [
        "# Task 3: Family Tree Builder\n",
        "\n",
        "Given a list of parent-child relationships, build a family tree and implement functions to:\n",
        "\n",
        "\n",
        "\n",
        "1.   Find all descendants of a person\n",
        "2.   Find the common ancestor of two people\n",
        "3.   Calculate the generation level of each person\n",
        "\n"
      ],
      "metadata": {
        "id": "JhP5d1yNg5uI"
      }
    },
    {
      "cell_type": "code",
      "source": [
        "relationships = [('A', 'B'), ('A', 'C'), ('B', 'D')]\n",
        "\n",
        "def family_tree(relationships):\n",
        "  children = {}\n",
        "  parents = {}\n",
        "  for parent,child in relationships:\n",
        "    if parent not in children:\n",
        "      children[parent] = []\n",
        "    children[parent].append(child)\n",
        "    parents[child] = parent\n",
        "  return children, parents\n",
        "\n",
        "family_tree(relationships)\n",
        "\n",
        "\n",
        "def find_descendants(children, person):\n",
        "  if person not in children: # ['B', 'C']  &  ['D']\n",
        "    return []\n",
        "\n",
        "  descendants = []\n",
        "  for child in children[person]: #children['A'] is ['B', 'C'].\n",
        "    descendants.append(child)\n",
        "    descendants.extend(find_descendants(children, child))  #takes an iterable (like a list) and adds each individual item from that iterable to the end of the current list.\n",
        "\n",
        "  return descendants\n",
        "\n",
        "def find_common_ancestor(parents, person1, person2):\n",
        "    \"\"\"Find common ancestor by comparing ancestor paths\"\"\"\n",
        "    # Get all ancestors of person1\n",
        "    ancestors1 = set()\n",
        "    current = person1\n",
        "    while current in parents:\n",
        "        current = parents[current]\n",
        "        ancestors1.add(current)\n",
        "\n",
        "    # Find first common ancestor for person2\n",
        "    current = person2\n",
        "    while current in parents:\n",
        "        current = parents[current]\n",
        "        if current in ancestors1:\n",
        "            return current\n",
        "    return None\n",
        "\n",
        "def calculate_generation(parents, person):\n",
        "    \"\"\"Calculate generation level (root = 0)\"\"\"\n",
        "    if person not in parents:\n",
        "        return 0  # root person\n",
        "    return calculate_generation(parents, parents[person]) + 1\n",
        "\n",
        "# Example usage\n",
        "relationships = [('A', 'B'), ('A', 'C'), ('B', 'D')]\n",
        "\n",
        "# Build tree\n",
        "children, parents = family_tree(relationships)\n",
        "\n",
        "# Test functions\n",
        "print(\"1. Descendants of 'A':\", find_descendants(children, 'A'))\n",
        "print(\"2. Common ancestor of 'D' and 'C':\", find_common_ancestor(parents, 'D', 'C'))\n",
        "print(\"3. Generations:\")\n",
        "for person in ['A', 'B', 'C', 'D']:\n",
        "    print(f\"   {person}: Generation {calculate_generation(parents, person)}\")\n"
      ],
      "metadata": {
        "id": "rwyJU5yvMaDH",
        "colab": {
          "base_uri": "https://localhost:8080/"
        },
        "outputId": "590e83a9-c2f3-4ca9-9fd4-cb78cee58582"
      },
      "execution_count": 7,
      "outputs": [
        {
          "output_type": "stream",
          "name": "stdout",
          "text": [
            "1. Descendants of 'A': ['B', 'D', 'C']\n",
            "2. Common ancestor of 'D' and 'C': A\n",
            "3. Generations:\n",
            "   A: Generation 0\n",
            "   B: Generation 1\n",
            "   C: Generation 1\n",
            "   D: Generation 2\n"
          ]
        }
      ]
    }
  ]
}