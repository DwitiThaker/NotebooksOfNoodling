{
  "nbformat": 4,
  "nbformat_minor": 0,
  "metadata": {
    "colab": {
      "provenance": [],
      "authorship_tag": "ABX9TyPQFZCoOm0wfJVhckCueTrP",
      "include_colab_link": true
    },
    "kernelspec": {
      "name": "python3",
      "display_name": "Python 3"
    },
    "language_info": {
      "name": "python"
    }
  },
  "cells": [
    {
      "cell_type": "markdown",
      "metadata": {
        "id": "view-in-github",
        "colab_type": "text"
      },
      "source": [
        "<a href=\"https://colab.research.google.com/github/DwitiThaker/NotebooksOfNoodling/blob/main/GuestbookJournal.ipynb\" target=\"_parent\"><img src=\"https://colab.research.google.com/assets/colab-badge.svg\" alt=\"Open In Colab\"/></a>"
      ]
    },
    {
      "cell_type": "code",
      "execution_count": null,
      "metadata": {
        "id": "17tuH_T97nOV"
      },
      "outputs": [],
      "source": [
        "import datetime\n",
        "\n",
        "entry1 = {\n",
        "    'author': 'Alice',\n",
        "    'content': 'Hello, this is my first entry!',\n",
        "    'timestamp': datetime.datetime.now()\n",
        "}\n",
        "\n",
        "entry2 = {\n",
        "    'author': 'Bob',\n",
        "    'content': 'Bob was here.',\n",
        "    'timestamp': datetime.datetime.now()\n",
        "}"
      ]
    },
    {
      "cell_type": "code",
      "source": [
        "guestbook_enteries = []"
      ],
      "metadata": {
        "id": "vMoA2dh9Bdmb"
      },
      "execution_count": null,
      "outputs": []
    },
    {
      "cell_type": "code",
      "source": [
        "guestbook_enteries = [entry1, entry2]"
      ],
      "metadata": {
        "id": "dCcQmUf0Bi3-"
      },
      "execution_count": null,
      "outputs": []
    },
    {
      "cell_type": "code",
      "source": [
        "def view():\n",
        "  if not guestbook_enteries:\n",
        "    print(\"No entries found.\")\n",
        "  else:\n",
        "    for entry in guestbook_enteries:\n",
        "      print(f\"{entry['author']} at {entry['timestamp']}: {entry['content']}\")"
      ],
      "metadata": {
        "id": "hyX71yAg75m4"
      },
      "execution_count": null,
      "outputs": []
    },
    {
      "cell_type": "code",
      "source": [
        "view()"
      ],
      "metadata": {
        "colab": {
          "base_uri": "https://localhost:8080/"
        },
        "id": "0H1Ueku0BZ_f",
        "outputId": "2e4e3aeb-0c70-494d-84c4-4da31c0e9c1b"
      },
      "execution_count": null,
      "outputs": [
        {
          "output_type": "stream",
          "name": "stdout",
          "text": [
            "Alice at 2025-08-05 07:10:46.533595: Hello, this is my first entry!\n",
            "Bob at 2025-08-05 07:10:46.533638: Bob was here.\n"
          ]
        }
      ]
    },
    {
      "cell_type": "code",
      "source": [
        "def add():\n",
        "  input_author = input(\"Enter the author's name: \")\n",
        "  input_content = input(\"Enter the entry content: \")\n",
        "  timestamp = datetime.datetime.now()\n",
        "\n",
        "  new_entry = {\n",
        "    'author': input_author,\n",
        "    'content': input_content,\n",
        "    'timestamp': timestamp\n",
        "  }\n",
        "\n",
        "  guestbook_enteries.append(new_entry)"
      ],
      "metadata": {
        "id": "fwacfc9i_Xvm"
      },
      "execution_count": null,
      "outputs": []
    },
    {
      "cell_type": "code",
      "source": [
        "def start():\n",
        "    print(\"Welcome to the guestbook journal!\")\n",
        "\n",
        "    while True:\n",
        "        print(\"\\nMenu:\")\n",
        "        print(\"1. View all entries\")\n",
        "        print(\"2. Add a new entry\")\n",
        "        print(\"3. Quit\")\n",
        "\n",
        "        choice = input(\"Enter your choice (1-3): \")\n",
        "\n",
        "        if choice == '1':\n",
        "            print('\\nViewing entries...')\n",
        "            view()\n",
        "        elif choice == '2':\n",
        "            print(\"\\nAdding a new entry...\")\n",
        "            add()\n",
        "        elif choice == '3':\n",
        "            print(\"Exiting guestbook journal. Goodbye!\")\n",
        "            break\n",
        "        else:\n",
        "            print(\"Invalid choice. Please enter a number between 1 and 3.\")"
      ],
      "metadata": {
        "id": "fG2P8X7P9tKJ"
      },
      "execution_count": null,
      "outputs": []
    },
    {
      "cell_type": "code",
      "source": [
        "start()"
      ],
      "metadata": {
        "colab": {
          "base_uri": "https://localhost:8080/"
        },
        "id": "fQ4mqammEgm6",
        "outputId": "ea355e3d-61cd-4b11-f360-d7ea7f8ab51f"
      },
      "execution_count": null,
      "outputs": [
        {
          "output_type": "stream",
          "name": "stdout",
          "text": [
            "Welcome to the guestbook journal!\n",
            "\n",
            "Menu:\n",
            "1. View all entries\n",
            "2. Add a new entry\n",
            "3. Quit\n",
            "Enter your choice (1-3): 1\n",
            "\n",
            "Viewing entries...\n",
            "Alice at 2025-08-05 07:18:23.510399: Hello, this is my first entry!\n",
            "Bob at 2025-08-05 07:18:23.510443: Bob was here.\n",
            "\n",
            "Menu:\n",
            "1. View all entries\n",
            "2. Add a new entry\n",
            "3. Quit\n",
            "Enter your choice (1-3): 3\n",
            "Exiting guestbook journal. Goodbye!\n"
          ]
        }
      ]
    },
    {
      "cell_type": "code",
      "source": [
        "import json\n",
        "import datetime\n",
        "\n",
        "def save_entries():\n",
        "  with open('guestbook_entries.json', 'w') as file:\n",
        "    serializable_entries = []\n",
        "    for entry in guestbook_enteries:\n",
        "      serializable_entry = entry.copy()\n",
        "      serializable_entry['timestamp'] = entry['timestamp'].isoformat()\n",
        "      serializable_entries.append(serializable_entry)\n",
        "    json.dump(serializable_entries, file)"
      ],
      "metadata": {
        "id": "-AFvlt7FALfu"
      },
      "execution_count": null,
      "outputs": []
    },
    {
      "cell_type": "code",
      "source": [
        "save_entries()"
      ],
      "metadata": {
        "id": "XI1VQwyOEtzy"
      },
      "execution_count": null,
      "outputs": []
    },
    {
      "cell_type": "code",
      "source": [
        "import json\n",
        "import datetime\n",
        "\n",
        "def load_entries():\n",
        "  try:\n",
        "    with open('guestbook_entries.json', 'r') as file:\n",
        "      loaded_entries = json.load(file)\n",
        "      deserialized_entries = []\n",
        "      for entry in loaded_entries:\n",
        "        deserialized_entry = entry.copy()\n",
        "        deserialized_entry['timestamp'] = datetime.datetime.fromisoformat(entry['timestamp'])\n",
        "        deserialized_entries.append(deserialized_entry)\n",
        "      return deserialized_entries\n",
        "  except FileNotFoundError:\n",
        "    return []"
      ],
      "metadata": {
        "id": "Fa0vSZ9uCsU2"
      },
      "execution_count": null,
      "outputs": []
    },
    {
      "cell_type": "code",
      "source": [
        "load_entries()"
      ],
      "metadata": {
        "colab": {
          "base_uri": "https://localhost:8080/"
        },
        "id": "PkQlR4gXES7Q",
        "outputId": "d69915dc-b5d1-474f-85a5-0c54c8acaf1e"
      },
      "execution_count": null,
      "outputs": [
        {
          "output_type": "execute_result",
          "data": {
            "text/plain": [
              "[{'author': 'Alice',\n",
              "  'content': 'Hello, this is my first entry!',\n",
              "  'timestamp': datetime.datetime(2025, 8, 5, 7, 18, 23, 510399)},\n",
              " {'author': 'Bob',\n",
              "  'content': 'Bob was here.',\n",
              "  'timestamp': datetime.datetime(2025, 8, 5, 7, 18, 23, 510443)}]"
            ]
          },
          "metadata": {},
          "execution_count": 64
        }
      ]
    },
    {
      "cell_type": "code",
      "source": [],
      "metadata": {
        "id": "4gi218_SEUyY"
      },
      "execution_count": null,
      "outputs": []
    }
  ]
}